{
 "cells": [
  {
   "cell_type": "markdown",
   "source": [
    "## Graphs examples notebook"
   ],
   "metadata": {
    "collapsed": false
   }
  },
  {
   "cell_type": "code",
   "execution_count": null,
   "outputs": [],
   "source": [
    "from pyvis import network as net\n",
    "import networkx as nx\n",
    "\n",
    "g = net.Network(notebook=True, cdn_resources='in_line')\n",
    "\n",
    "nxg = nx.complete_graph(15)\n",
    "g.from_nx(nxg)\n",
    "g.show('example.html')"
   ],
   "metadata": {
    "collapsed": false,
    "ExecuteTime": {
     "start_time": "2023-04-05T17:27:58.935108Z",
     "end_time": "2023-04-05T17:27:59.094382Z"
    }
   }
  }
 ],
 "metadata": {
  "language_info": {
   "codemirror_mode": {
    "name": "ipython",
    "version": 2
   },
   "file_extension": ".py",
   "mimetype": "text/x-python",
   "name": "python",
   "nbconvert_exporter": "python",
   "pygments_lexer": "ipython2",
   "version": "2.7.6"
  },
  "kernelspec": {
   "name": "python3",
   "language": "python",
   "display_name": "Python 3"
  },
  "pycharm": {
   "stem_cell": {
    "cell_type": "raw",
    "source": [],
    "metadata": {
     "collapsed": false
    }
   }
  }
 },
 "nbformat": 4,
 "nbformat_minor": 0
}
